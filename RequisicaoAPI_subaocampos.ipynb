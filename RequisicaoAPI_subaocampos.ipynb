{
  "nbformat": 4,
  "nbformat_minor": 0,
  "metadata": {
    "colab": {
      "provenance": [],
      "authorship_tag": "ABX9TyMuM0tomzzCJxef5NCNJ62g",
      "include_colab_link": true
    },
    "kernelspec": {
      "name": "python3",
      "display_name": "Python 3"
    },
    "language_info": {
      "name": "python"
    }
  },
  "cells": [
    {
      "cell_type": "markdown",
      "metadata": {
        "id": "view-in-github",
        "colab_type": "text"
      },
      "source": [
        "<a href=\"https://colab.research.google.com/github/DilsonCampos/DilsonCampos/blob/main/RequisicaoAPI_subaocampos.ipynb\" target=\"_parent\"><img src=\"https://colab.research.google.com/assets/colab-badge.svg\" alt=\"Open In Colab\"/></a>"
      ]
    },
    {
      "cell_type": "code",
      "execution_count": null,
      "metadata": {
        "id": "CpR72NbPOIZ5"
      },
      "outputs": [],
      "source": [
        "import requests\n",
        "\n",
        "link = 'https://subaocampos.dilsoncampos.repl.co/pegarvendas'\n",
        "\n",
        "requisição = requests.get(link)\n",
        "\n",
        "print(requisicao)\n",
        "print(requisicao.json())\n"
      ]
    }
  ]
}