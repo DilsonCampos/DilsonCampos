{
  "nbformat": 4,
  "nbformat_minor": 0,
  "metadata": {
    "colab": {
      "provenance": [],
      "name": "conectando-ao-drive.ipynb",
      "include_colab_link": true
    },
    "kernelspec": {
      "name": "python3",
      "display_name": "Python 3"
    },
    "language_info": {
      "name": "python"
    }
  },
  "cells": [
    {
      "cell_type": "markdown",
      "metadata": {
        "id": "view-in-github",
        "colab_type": "text"
      },
      "source": [
        "<a href=\"https://colab.research.google.com/github/DilsonCampos/DilsonCampos/blob/DilsonCampos-patch-1/conectando_ao_drive.ipynb\" target=\"_parent\"><img src=\"https://colab.research.google.com/assets/colab-badge.svg\" alt=\"Open In Colab\"/></a>"
      ]
    },
    {
      "cell_type": "markdown",
      "source": [
        "## **Metadados**"
      ],
      "metadata": {
        "id": "ckmzW4Eb1wur"
      }
    },
    {
      "cell_type": "markdown",
      "source": [
        "## **Conectando o Google Colab ao Google Drive**"
      ],
      "metadata": {
        "id": "w2WYxpHL3IFL"
      }
    },
    {
      "cell_type": "code",
      "source": [
        "# importa do módulo google o objeto drive, que está dentro do objeto colab e dá a esse objeto o nome \"drive\"\n",
        "\n",
        "import google.colab.drive as drive"
      ],
      "metadata": {
        "id": "iuDyh1-Z3HQ0"
      },
      "execution_count": null,
      "outputs": []
    },
    {
      "cell_type": "code",
      "source": [
        "from google.colab import drive"
      ],
      "metadata": {
        "id": "3rrKudGBA4vz"
      },
      "execution_count": null,
      "outputs": []
    },
    {
      "cell_type": "code",
      "source": [
        "# instrui o objeto drive a montar (comando mount()) na pasta chamada \n",
        "#\"/content/drive\" o acesso ao Drive do usuário que está executando o notebook\n",
        "\n",
        "drive.mount('/content/drive')"
      ],
      "metadata": {
        "colab": {
          "base_uri": "https://localhost:8080/"
        },
        "id": "nAYgfJEXRcho",
        "outputId": "be6e1f67-dfbc-40e2-9ff3-76ccb8139b75"
      },
      "execution_count": null,
      "outputs": [
        {
          "output_type": "stream",
          "name": "stdout",
          "text": [
            "Mounted at /content/drive\n"
          ]
        }
      ]
    },
    {
      "cell_type": "markdown",
      "source": [
        "##Conectando o Google Colab ao Google Drive#"
      ],
      "metadata": {
        "id": "YzR3DmOA11wK"
      }
    },
    {
      "cell_type": "code",
      "source": [
        "# importa do módulo google o objeto drive, que está dentro do objeto colab e dá a esse objeto o nome \"drive\"\n",
        "\n",
        "import google.colab.drive as drive\n",
        "\n",
        "# instrui o objeto drive a montar (comando mount()) na pasta chamada \n",
        "#\"/content/drive\" o acesso ao Drive do usuário que está executando o notebook\n",
        "\n",
        "drive.mount('/content/drive/') \n"
      ],
      "metadata": {
        "id": "iGHYZvvv6XXb",
        "outputId": "b03588a1-4cd3-499f-b37c-6196f81eae5a",
        "colab": {
          "base_uri": "https://localhost:8080/"
        }
      },
      "execution_count": null,
      "outputs": [
        {
          "output_type": "stream",
          "name": "stdout",
          "text": [
            "Mounted at /content/drive/\n"
          ]
        }
      ]
    },
    {
      "cell_type": "markdown",
      "source": [
        "## **Metadados**"
      ],
      "metadata": {
        "id": "B_hpbCYy_DJr"
      }
    },
    {
      "cell_type": "markdown",
      "source": [
        "## **Determinando o número de Linhas, palavras e caracteres de um documento digital com o comando Linux **\n",
        "\n",
        "Guia Linux\n",
        "https://guialinux.uniriotec.br\n",
        "\n",
        "https://guialinux.uniriotec.br/wc/."
      ],
      "metadata": {
        "id": "P1FZrA-w_Cv5"
      }
    },
    {
      "cell_type": "code",
      "source": [
        "!wc /content/drive/MyDrive/NIAJus/Curso1/tbl_fato_unificada_jun2022.csv"
      ],
      "metadata": {
        "colab": {
          "base_uri": "https://localhost:8080/"
        },
        "id": "koN0qepMHtf_",
        "outputId": "816c2724-e2ba-4e86-8d73-657cc723b6bd"
      },
      "execution_count": null,
      "outputs": [
        {
          "output_type": "stream",
          "name": "stdout",
          "text": [
            "  201983  1959624 51099203 /content/drive/MyDrive/NIAJus/Curso1/tbl_fato_unificada_jun2022.csv\n"
          ]
        }
      ]
    },
    {
      "cell_type": "markdown",
      "source": [
        "## Utilizando o comando grep para identificar os ramos da justiça "
      ],
      "metadata": {
        "id": "tev58nn5-vhz"
      }
    },
    {
      "cell_type": "code",
      "source": [
        "!grep  ',Justiça Estadual,' /content/drive/MyDrive/NIAJus/Curso1/tbl_fato_unificada_jun2022.csv"
      ],
      "metadata": {
        "id": "LqxxG9RILSLE"
      },
      "execution_count": null,
      "outputs": []
    },
    {
      "cell_type": "markdown",
      "source": [
        "## Nome das Colunas em um documento do tipo planilha: usando head\n",
        "\n",
        "Guia Linux\n",
        " https://guialinux.uniriotec.br/head/."
      ],
      "metadata": {
        "id": "JSDne75E7LyV"
      }
    },
    {
      "cell_type": "code",
      "source": [
        "!head /content/drive/MyDrive/NIAJus/Curso1/tbl_fato_unificada_jun2022.csv"
      ],
      "metadata": {
        "colab": {
          "base_uri": "https://localhost:8080/"
        },
        "id": "3k8P2R8o4hdc",
        "outputId": "fa54473e-e900-48cc-8ffb-b0989d7167e2"
      },
      "execution_count": null,
      "outputs": [
        {
          "output_type": "stream",
          "name": "stdout",
          "text": [
            "id_orgao_julgador,id_origem,sigla_tribunal,ramo_justica,ano,mes,ultimo_dia,sigla_grau,id_formato,procedimento,originario,ind1,ind1_12m,ind2,ind3,ind3_12m,ind4,ind5,ind6a,ind6b,ind6c,ind6c.a,ind6c.b,ind6c.c,ind6c.d,ind7a,ind7b,ind8a,ind8d,ind8b,ind8c,ind9,ind10,ind11,ind12,ind13a,ind13b,ind14a,ind14b,ind15total,ind15max,ind15min,ind16_dias,ind16_proc,ind17_dias,ind17_proc,ind18_dias,ind18_proc,ind19_dias,ind19_proc,ind20,ind21,ind22,ind23,ind24,ind25,ind26,tpcplst,tpcplp,tpcpst,tpcpp,tpbaixst,tpbaixp,tpsentst,tpsentp,nome_municipio,nome_orgao,uf,juizo_digital,justica_4_0,situacao\r\n",
            "16034,16034,TRE-AC,Justiça Eleitoral,2022,6,2022-06-30,G1,1,Conhecimento criminal,Originário,,,11,,,2,9,3,,3,,,3,,,,1,,1,,3,8,,,,,,,1,0014-11-20,0014-11-20,,,897,1,6266,9,10420,11,,,,,,,,,,,,,,,,RIO BRANCO,9ª NA ELEITORAL,AC,TRUE,FALSE,S\r\n",
            "16034,16034,TRE-AC,Justiça Eleitoral,2022,6,2022-06-30,G1,1,Conhecimento não criminal,Originário,4,107,16,15,159,0,16,3,,3,,,3,,,,15,,15,,6,1,,,,,,,1,0002-09-20,0002-09-20,3344,11,2831,11,5796,16,7094,16,,,58,58,,,,,,,,,,,,RIO BRANCO,9ª NA ELEITORAL,AC,TRUE,FALSE,S\r\n",
            "16034,16034,TRE-AC,Justiça Eleitoral,2022,6,2022-06-30,G1,1,Execução fiscal,Originário,,,5,1,63,2,3,,,,,,,,,,,,,,,1,,,,,,,1,0007-10-20,0007-10-20,1838,1,,,5663,3,9347,5,,,,,,,,,,,,,,,,RIO BRANCO,9ª NA ELEITORAL,AC,TRUE,FALSE,S\r\n",
            "16034,16034,TRE-AC,Justiça Eleitoral,2022,6,2022-06-30,G1,1,Execução penal não privativa de liberdade,Originário,,,1,,,0,1,,,,,,,,,,,,,,2,1,,,,,,,1,0016-05-20,0016-05-20,,,,,45,1,45,1,,,,,,,,,,,,,,,,RIO BRANCO,9ª NA ELEITORAL,AC,TRUE,FALSE,S\r\n",
            "16034,16034,TRE-AC,Justiça Eleitoral,2022,6,2022-06-30,G1,1,Outros,Originário,,,,,,,,,,,,,,,,,,,,,,2,,,,,,,,,,,,,,,,,,,,,,,,,,,,,,,,,RIO BRANCO,9ª NA ELEITORAL,AC,TRUE,FALSE,S\r\n",
            "16034,16034,TRE-AC,Justiça Eleitoral,2022,6,2022-06-30,G1,2,Conhecimento criminal,Originário,,,,,,,,,,,,,,,,,,,,,,,,,,,,,,,,,,,,,,,,,,,,,,,,,,,,,,,RIO BRANCO,9ª NA ELEITORAL,AC,TRUE,FALSE,S\r\n",
            "16034,16034,TRE-AC,Justiça Eleitoral,2022,6,2022-06-30,G1,2,Conhecimento não criminal,Originário,,,3,,,0,3,2,,2,,,2,,2,2,,,,,,,,,,,,,1,0014-06-20,0014-06-20,,,,,4999,3,4999,3,,,,,,,,,,,,,,,,RIO BRANCO,9ª NA ELEITORAL,AC,TRUE,FALSE,S\r\n",
            "16034,16034,TRE-AC,Justiça Eleitoral,2022,6,2022-06-30,G1,2,Execução fiscal,Originário,,,,,,,,,,,,,,,,,,,,,,,,,,,,,,,,,,,,,,,,,,,,,,,,,,,,,,,RIO BRANCO,9ª NA ELEITORAL,AC,TRUE,FALSE,S\r\n",
            "16034,16034,TRE-AC,Justiça Eleitoral,2022,6,2022-06-30,G1,2,Outros,Originário,,,,,,,,,,,,,,,,,,,,,,,,,,,,,,,,,,,,,,,,,,,,,,,,,,,,,,,RIO BRANCO,9ª NA ELEITORAL,AC,TRUE,FALSE,S\r\n"
          ]
        }
      ]
    }
  ]
}