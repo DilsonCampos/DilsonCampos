{
  "nbformat": 4,
  "nbformat_minor": 0,
  "metadata": {
    "colab": {
      "provenance": [],
      "authorship_tag": "ABX9TyMCIb0sbZqw3KOmxn1UhswI",
      "include_colab_link": true
    },
    "kernelspec": {
      "name": "python3",
      "display_name": "Python 3"
    },
    "language_info": {
      "name": "python"
    }
  },
  "cells": [
    {
      "cell_type": "markdown",
      "metadata": {
        "id": "view-in-github",
        "colab_type": "text"
      },
      "source": [
        "<a href=\"https://colab.research.google.com/github/DilsonCampos/DilsonCampos/blob/main/api_subaocampos.ipynb\" target=\"_parent\"><img src=\"https://colab.research.google.com/assets/colab-badge.svg\" alt=\"Open In Colab\"/></a>"
      ]
    },
    {
      "cell_type": "code",
      "execution_count": null,
      "metadata": {
        "id": "CpR72NbPOIZ5"
      },
      "outputs": [],
      "source": [
        " # criando uma requisição de API\n",
        "\n",
        "import requests\n",
        "\n",
        "link = 'https://subaocampos.dilsoncampos.repl.co/pegarvendas'\n",
        "\n",
        "requisição = requests.get(link)\n",
        "\n",
        "print(requisicao)\n",
        "print(requisicao.json())\n"
      ]
    },
    {
      "cell_type": "code",
      "source": [
        "# criando API https://subaocampos.dilsoncampos.repl.co\n",
        "import pandas as pd\n",
        "from flask import Flask, jsonify\n",
        "\n",
        "app = Flask(__name__)\n",
        "\n",
        "# construindo as funcionalidades\n",
        "@app.route('/')\n",
        "def homepage():\n",
        "    return'API DO \"SUBÃOCAMPOS\" está no ar'\n",
        "  \n",
        "@app.route('/pegarvendas')\n",
        "def pegarvendas():\n",
        "  tabela = pd.read_csv('API_Python.csv')\n",
        "  total_vendas = tabela['Vendas'].sum()\n",
        "  resposta = {'total_vendas': total_vendas}\n",
        "  return jsonify(resposta)\n",
        "  \n",
        "app.run(host= '0.0.0.0')"
      ],
      "metadata": {
        "colab": {
          "base_uri": "https://localhost:8080/"
        },
        "id": "yQAoLEk9d1oK",
        "outputId": "21e243ef-2247-426d-86cd-793abb4e1745"
      },
      "execution_count": 11,
      "outputs": [
        {
          "output_type": "stream",
          "name": "stdout",
          "text": [
            " * Serving Flask app \"__main__\" (lazy loading)\n",
            " * Environment: production\n",
            "\u001b[31m   WARNING: This is a development server. Do not use it in a production deployment.\u001b[0m\n",
            "\u001b[2m   Use a production WSGI server instead.\u001b[0m\n",
            " * Debug mode: off\n"
          ]
        },
        {
          "output_type": "stream",
          "name": "stderr",
          "text": [
            "INFO:werkzeug: * Running on http://0.0.0.0:5000/ (Press CTRL+C to quit)\n"
          ]
        }
      ]
    }
  ]
}